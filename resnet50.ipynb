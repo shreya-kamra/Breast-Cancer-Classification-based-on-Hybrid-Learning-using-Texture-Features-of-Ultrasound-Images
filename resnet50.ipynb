{
  "cells": [
    {
      "cell_type": "markdown",
      "metadata": {
        "id": "view-in-github",
        "colab_type": "text"
      },
      "source": [
        "<a href=\"https://colab.research.google.com/github/shreya-kamra/Breast-Cancer-Classification-based-on-Hybrid-Learning-using-Texture-Features-of-Ultrasound-Images/blob/main/resnet50.ipynb\" target=\"_parent\"><img src=\"https://colab.research.google.com/assets/colab-badge.svg\" alt=\"Open In Colab\"/></a>"
      ]
    },
    {
      "cell_type": "code",
      "execution_count": null,
      "id": "6d314357",
      "metadata": {
        "_cell_guid": "b1076dfc-b9ad-4769-8c92-a6c4dae69d19",
        "_uuid": "8f2839f25d086af736a60e9eeb907d3b93b6e0e5",
        "execution": {
          "iopub.execute_input": "2022-06-13T06:02:59.897489Z",
          "iopub.status.busy": "2022-06-13T06:02:59.896836Z",
          "iopub.status.idle": "2022-06-13T06:03:06.845326Z",
          "shell.execute_reply": "2022-06-13T06:03:06.844248Z"
        },
        "papermill": {
          "duration": 6.960085,
          "end_time": "2022-06-13T06:03:06.847954",
          "exception": false,
          "start_time": "2022-06-13T06:02:59.887869",
          "status": "completed"
        },
        "tags": [],
        "id": "6d314357"
      },
      "outputs": [],
      "source": [
        "from tensorflow import keras\n",
        "import cv2\n",
        "from tensorflow.keras.preprocessing.image import load_img ,img_to_array\n",
        "import matplotlib.pyplot as plt\n",
        "from tensorflow.keras.models import Sequential\n",
        "from tensorflow.keras.layers import Conv2D\n",
        "from tensorflow.keras.layers import MaxPooling2D,AveragePooling2D,BatchNormalization\n",
        "from tensorflow.keras.layers import Dense,Activation\n",
        "from tensorflow.keras.layers import Flatten,Dropout,SpatialDropout2D\n",
        "from tensorflow.keras.optimizers import SGD\n",
        "from tensorflow.keras.optimizers import Adam\n",
        "import os\n",
        "import numpy as np\n",
        "import pandas as pd"
      ]
    },
    {
      "cell_type": "code",
      "source": [
        "from google.colab import drive\n",
        "drive.mount('/content/drive')"
      ],
      "metadata": {
        "colab": {
          "base_uri": "https://localhost:8080/"
        },
        "id": "0La2vLkT5Eih",
        "outputId": "bcc54960-6a31-400f-9be7-bf528b022204"
      },
      "id": "0La2vLkT5Eih",
      "execution_count": null,
      "outputs": [
        {
          "output_type": "stream",
          "name": "stdout",
          "text": [
            "Mounted at /content/drive\n"
          ]
        }
      ]
    },
    {
      "cell_type": "code",
      "execution_count": null,
      "id": "ed19a069",
      "metadata": {
        "execution": {
          "iopub.execute_input": "2022-06-13T06:03:06.858198Z",
          "iopub.status.busy": "2022-06-13T06:03:06.857517Z",
          "iopub.status.idle": "2022-06-13T06:03:06.994469Z",
          "shell.execute_reply": "2022-06-13T06:03:06.993696Z"
        },
        "papermill": {
          "duration": 0.144092,
          "end_time": "2022-06-13T06:03:06.996325",
          "exception": false,
          "start_time": "2022-06-13T06:03:06.852233",
          "status": "completed"
        },
        "tags": [],
        "colab": {
          "base_uri": "https://localhost:8080/"
        },
        "id": "ed19a069",
        "outputId": "07073d9f-489a-4436-bd27-5e1bf2d70bba"
      },
      "outputs": [
        {
          "output_type": "execute_result",
          "data": {
            "text/plain": [
              "{'benign': 891, 'normal': 266, 'malignant': 421}"
            ]
          },
          "metadata": {},
          "execution_count": 3
        }
      ],
      "source": [
        "path = \"/content/drive/MyDrive/Dataset_BUSI_with_GT\"\n",
        "dir_list = [os.path.join(path,i) for i in os.listdir(path)]\n",
        "size_dict = {}\n",
        "for i,value in enumerate(dir_list):\n",
        "    size_dict[os.listdir(path)[i]] = len(os.listdir(value))\n",
        "size_dict"
      ]
    },
    {
      "cell_type": "code",
      "execution_count": null,
      "id": "b594977d",
      "metadata": {
        "execution": {
          "iopub.execute_input": "2022-06-13T06:03:07.006845Z",
          "iopub.status.busy": "2022-06-13T06:03:07.006123Z",
          "iopub.status.idle": "2022-06-13T06:03:07.010431Z",
          "shell.execute_reply": "2022-06-13T06:03:07.009632Z"
        },
        "papermill": {
          "duration": 0.011753,
          "end_time": "2022-06-13T06:03:07.012400",
          "exception": false,
          "start_time": "2022-06-13T06:03:07.000647",
          "status": "completed"
        },
        "tags": [],
        "id": "b594977d"
      },
      "outputs": [],
      "source": [
        "import re\n",
        "def clean(name):\n",
        "    name = re.sub('[benign ().p]','',str(name))\n",
        "    return name"
      ]
    },
    {
      "cell_type": "code",
      "execution_count": null,
      "id": "fe6cdc90",
      "metadata": {
        "execution": {
          "iopub.execute_input": "2022-06-13T06:03:07.023432Z",
          "iopub.status.busy": "2022-06-13T06:03:07.022731Z",
          "iopub.status.idle": "2022-06-13T06:03:07.044005Z",
          "shell.execute_reply": "2022-06-13T06:03:07.043337Z"
        },
        "papermill": {
          "duration": 0.029397,
          "end_time": "2022-06-13T06:03:07.046355",
          "exception": false,
          "start_time": "2022-06-13T06:03:07.016958",
          "status": "completed"
        },
        "tags": [],
        "colab": {
          "base_uri": "https://localhost:8080/"
        },
        "id": "fe6cdc90",
        "outputId": "908b33c9-98ae-4992-f11b-8bdb1a307046"
      },
      "outputs": [
        {
          "output_type": "stream",
          "name": "stdout",
          "text": [
            "437\n"
          ]
        }
      ],
      "source": [
        "df = pd.DataFrame(os.listdir(dir_list[0]))\n",
        "df = df[0].apply(clean)\n",
        "df = df[~df.str.contains('mask',regex =False)]\n",
        "df = pd.to_numeric(df, errors='coerce')\n",
        "df_list = list(df)\n",
        "type(df_list)\n",
        "df_list.sort()\n",
        "print(len(df_list))"
      ]
    },
    {
      "cell_type": "code",
      "execution_count": null,
      "id": "23b45965",
      "metadata": {
        "execution": {
          "iopub.execute_input": "2022-06-13T06:03:07.058303Z",
          "iopub.status.busy": "2022-06-13T06:03:07.057640Z",
          "iopub.status.idle": "2022-06-13T06:03:07.064568Z",
          "shell.execute_reply": "2022-06-13T06:03:07.063812Z"
        },
        "papermill": {
          "duration": 0.014623,
          "end_time": "2022-06-13T06:03:07.066544",
          "exception": false,
          "start_time": "2022-06-13T06:03:07.051921",
          "status": "completed"
        },
        "tags": [],
        "id": "23b45965"
      },
      "outputs": [],
      "source": [
        "img_size = 128\n",
        "img_channel = 3\n",
        "X_b , Xm_b , y_b = np.zeros((437,img_size,img_size,img_channel)) , np.zeros((437,img_size,img_size,img_channel)) , np.full(437,'benign')\n",
        "X_n , Xm_n , y_n = np.zeros((133,img_size,img_size,img_channel)) , np.zeros((133,img_size,img_size,img_channel)) , np.full(133,'normal')\n",
        "X_m , Xm_m , y_m = np.zeros((210,img_size,img_size,img_channel)) , np.zeros((210,img_size,img_size,img_channel)) , np.full(210,'malignant')"
      ]
    },
    {
      "cell_type": "code",
      "execution_count": null,
      "id": "5718a1c8",
      "metadata": {
        "execution": {
          "iopub.execute_input": "2022-06-13T06:03:07.077657Z",
          "iopub.status.busy": "2022-06-13T06:03:07.076953Z",
          "iopub.status.idle": "2022-06-13T06:03:23.893850Z",
          "shell.execute_reply": "2022-06-13T06:03:23.892779Z"
        },
        "papermill": {
          "duration": 16.825515,
          "end_time": "2022-06-13T06:03:23.896671",
          "exception": false,
          "start_time": "2022-06-13T06:03:07.071156",
          "status": "completed"
        },
        "tags": [],
        "colab": {
          "base_uri": "https://localhost:8080/"
        },
        "id": "5718a1c8",
        "outputId": "6c86a688-8ca2-4d95-a43f-043e40e13d6e"
      },
      "outputs": [
        {
          "output_type": "stream",
          "name": "stdout",
          "text": [
            "(128, 128, 3)\n"
          ]
        }
      ],
      "source": [
        "import os\n",
        "img1_path = os.path.join(os.path.join(path,'benign'),os.listdir(os.path.join(path,'benign'))[1])\n",
        "\n",
        "pil_img = load_img(img1_path,color_mode = 'rgb',target_size=(img_size,img_size))\n",
        "img = img_to_array(pil_img)\n",
        "img_shape = img.shape\n",
        "print(img_shape)\n",
        "\n",
        "def img_num(filename):\n",
        "\n",
        "    val = 0\n",
        "\n",
        "    for i in range(len(filename)) :\n",
        "        if filename[i] == '(' :\n",
        "            while True :\n",
        "                i += 1\n",
        "                if filename[i] == ')' :\n",
        "                    break\n",
        "                val = (val*10) + int(filename[i])\n",
        "            break\n",
        "\n",
        "    return val\n",
        "\n",
        "for tumor_path in dir_list :\n",
        "    for image in os.listdir(tumor_path) :\n",
        "        p = os.path.join(tumor_path, image)\n",
        "        pil_img = load_img(p,color_mode = 'rgb',target_size=(img_size,img_size))         # read image as  grayscale and resize it\n",
        "\n",
        "        if image[-5] == ')' :                                   #if real image\n",
        "\n",
        "            if image[0] == 'b' :\n",
        "                X_b[img_num(image)-1]+= img_to_array(pil_img)  # If image is real add it\n",
        "            if image[0] == 'n' :                               # to X as benign , normal\n",
        "                X_n[img_num(image)-1]+= img_to_array(pil_img)  # or malignant.\n",
        "            if image[0] == 'm' :\n",
        "                X_m[img_num(image)-1]+= img_to_array(pil_img)\n",
        "        else :                                                 #else masked image\n",
        "\n",
        "            if image[0] == 'b' :\n",
        "                Xm_b[img_num(image)-1]+= img_to_array(pil_img)  # Similarly add the target\n",
        "            if image[0] == 'n' :                               # mask to y.\n",
        "                Xm_n[img_num(image)-1]+= img_to_array(pil_img)\n",
        "            if image[0] == 'm' :\n",
        "                Xm_m[img_num(image)-1]+= img_to_array(pil_img)"
      ]
    },
    {
      "cell_type": "code",
      "source": [
        "import matplotlib.pyplot as plt\n",
        "\n",
        "def display_images(images, title):\n",
        "    plt.figure(figsize=(10, 10))\n",
        "    for i in range(9):  # Displaying 9 images\n",
        "        plt.subplot(3, 3, i + 1)\n",
        "        plt.imshow(images[i])\n",
        "        plt.title(f'{title} Image {i+1}')\n",
        "        plt.axis('off')\n",
        "    plt.show()\n",
        "\n",
        "# Display some images from X (masked images)\n",
        "display_images(Xm_m, 'Masked')\n",
        "\n",
        "# Display some images from X (original images)\n",
        "display_images(X_b, 'Original')\n"
      ],
      "metadata": {
        "colab": {
          "base_uri": "https://localhost:8080/",
          "height": 1000
        },
        "id": "xyjmoyzSwbBn",
        "outputId": "58b295fb-ea56-4a5c-b416-8dcf07e00e1b"
      },
      "id": "xyjmoyzSwbBn",
      "execution_count": null,
      "outputs": [
        {
          "output_type": "stream",
          "name": "stderr",
          "text": [
            "WARNING:matplotlib.image:Clipping input data to the valid range for imshow with RGB data ([0..1] for floats or [0..255] for integers).\n",
            "WARNING:matplotlib.image:Clipping input data to the valid range for imshow with RGB data ([0..1] for floats or [0..255] for integers).\n",
            "WARNING:matplotlib.image:Clipping input data to the valid range for imshow with RGB data ([0..1] for floats or [0..255] for integers).\n",
            "WARNING:matplotlib.image:Clipping input data to the valid range for imshow with RGB data ([0..1] for floats or [0..255] for integers).\n",
            "WARNING:matplotlib.image:Clipping input data to the valid range for imshow with RGB data ([0..1] for floats or [0..255] for integers).\n",
            "WARNING:matplotlib.image:Clipping input data to the valid range for imshow with RGB data ([0..1] for floats or [0..255] for integers).\n",
            "WARNING:matplotlib.image:Clipping input data to the valid range for imshow with RGB data ([0..1] for floats or [0..255] for integers).\n",
            "WARNING:matplotlib.image:Clipping input data to the valid range for imshow with RGB data ([0..1] for floats or [0..255] for integers).\n",
            "WARNING:matplotlib.image:Clipping input data to the valid range for imshow with RGB data ([0..1] for floats or [0..255] for integers).\n"
          ]
        },
        {
          "output_type": "display_data",
          "data": {
            "text/plain": [
              "<Figure size 1000x1000 with 9 Axes>"
            ],
            "image/png": "[encoded data removed]"
          },
          "metadata": {}
        },
        {
          "output_type": "stream",
          "name": "stderr",
          "text": [
            "WARNING:matplotlib.image:Clipping input data to the valid range for imshow with RGB data ([0..1] for floats or [0..255] for integers).\n",
            "WARNING:matplotlib.image:Clipping input data to the valid range for imshow with RGB data ([0..1] for floats or [0..255] for integers).\n",
            "WARNING:matplotlib.image:Clipping input data to the valid range for imshow with RGB data ([0..1] for floats or [0..255] for integers).\n",
            "WARNING:matplotlib.image:Clipping input data to the valid range for imshow with RGB data ([0..1] for floats or [0..255] for integers).\n",
            "WARNING:matplotlib.image:Clipping input data to the valid range for imshow with RGB data ([0..1] for floats or [0..255] for integers).\n",
            "WARNING:matplotlib.image:Clipping input data to the valid range for imshow with RGB data ([0..1] for floats or [0..255] for integers).\n",
            "WARNING:matplotlib.image:Clipping input data to the valid range for imshow with RGB data ([0..1] for floats or [0..255] for integers).\n",
            "WARNING:matplotlib.image:Clipping input data to the valid range for imshow with RGB data ([0..1] for floats or [0..255] for integers).\n",
            "WARNING:matplotlib.image:Clipping input data to the valid range for imshow with RGB data ([0..1] for floats or [0..255] for integers).\n"
          ]
        },
        {
          "output_type": "display_data",
          "data": {
            "text/plain": [
              "<Figure size 1000x1000 with 9 Axes>"
            ],
            "image/png": "[encoded data removed]"
          },
          "metadata": {}
        }
      ]
    },
    {
      "cell_type": "code",
      "execution_count": null,
      "id": "12558286",
      "metadata": {
        "execution": {
          "iopub.execute_input": "2022-06-13T06:03:23.907537Z",
          "iopub.status.busy": "2022-06-13T06:03:23.906755Z",
          "iopub.status.idle": "2022-06-13T06:03:24.321868Z",
          "shell.execute_reply": "2022-06-13T06:03:24.320618Z"
        },
        "papermill": {
          "duration": 0.422782,
          "end_time": "2022-06-13T06:03:24.324110",
          "exception": false,
          "start_time": "2022-06-13T06:03:23.901328",
          "status": "completed"
        },
        "tags": [],
        "colab": {
          "base_uri": "https://localhost:8080/"
        },
        "id": "12558286",
        "outputId": "9a8b29b0-ae89-40a0-b334-81fe437beacb"
      },
      "outputs": [
        {
          "output_type": "stream",
          "name": "stdout",
          "text": [
            "(780, 128, 128, 3)\n",
            "(780, 128, 128, 3)\n",
            "(780,)\n",
            "1.0\n",
            "0.0\n"
          ]
        }
      ],
      "source": [
        "X = np.concatenate((X_b, X_n, X_m), axis = 0)\n",
        "Xm = np.concatenate((Xm_b, Xm_n, Xm_m), axis = 0)\n",
        "y = np.concatenate((y_b, y_n, y_m), axis = 0)\n",
        "\n",
        "print(X.shape)\n",
        "print(Xm.shape)\n",
        "print(y.shape)\n",
        "X /= 255.0\n",
        "Xm /= 255.0\n",
        "\n",
        "print(X.max())\n",
        "print(Xm.min())"
      ]
    },
    {
      "cell_type": "code",
      "execution_count": null,
      "id": "d174cf8e",
      "metadata": {
        "execution": {
          "iopub.execute_input": "2022-06-13T06:03:24.334971Z",
          "iopub.status.busy": "2022-06-13T06:03:24.334145Z",
          "iopub.status.idle": "2022-06-13T06:03:25.547317Z",
          "shell.execute_reply": "2022-06-13T06:03:25.546069Z"
        },
        "papermill": {
          "duration": 1.220928,
          "end_time": "2022-06-13T06:03:25.549570",
          "exception": false,
          "start_time": "2022-06-13T06:03:24.328642",
          "status": "completed"
        },
        "tags": [],
        "id": "d174cf8e"
      },
      "outputs": [],
      "source": [
        "from sklearn.model_selection import train_test_split\n",
        "from sklearn.preprocessing import OneHotEncoder\n",
        "\n",
        "encoder  = OneHotEncoder()\n",
        "y = encoder.fit_transform(y.reshape(-1, 1)).toarray()\n",
        "\n"
      ]
    },
    {
      "cell_type": "code",
      "source": [
        "X_train,X_test,y_train,y_test = train_test_split(X,y,test_size = 0.15,shuffle=True,random_state=42)\n",
        "Xm_train,Xm_test,ym_train,ym_test = train_test_split(Xm,y,test_size = 0.15,shuffle=True,random_state=42,stratify=y)\n",
        "\n",
        "class_list = encoder.categories_\n",
        "print(X_train.shape,X_test.shape)\n",
        "print(y_train.shape,y_test.shape)"
      ],
      "metadata": {
        "colab": {
          "base_uri": "https://localhost:8080/"
        },
        "id": "3KvEXWn2uzcH",
        "outputId": "8592c215-d5fa-4894-c160-1e2f7b44104a"
      },
      "id": "3KvEXWn2uzcH",
      "execution_count": null,
      "outputs": [
        {
          "output_type": "stream",
          "name": "stdout",
          "text": [
            "(663, 128, 128, 3) (117, 128, 128, 3)\n",
            "(663, 3) (117, 3)\n"
          ]
        }
      ]
    },
    {
      "cell_type": "code",
      "source": [
        "import tensorflow as tf\n",
        "base_model = tf.keras.applications.ResNet50(\n",
        "                include_top=False,\n",
        "                weights=\"imagenet\",\n",
        "                input_tensor=None,\n",
        "                input_shape=img_shape,\n",
        "                pooling=None,\n",
        "            )\n",
        "for layer in base_model.layers:\n",
        "    layer.trainable = False\n",
        "\n",
        "model = Sequential()\n",
        "model.add(base_model)\n",
        "model.add(Flatten())\n",
        "model.add(BatchNormalization())\n",
        "model.add(Dense(256,activation='relu'))\n",
        "model.add(Dropout(0.5))\n",
        "model.add(Dense(128,activation='relu'))\n",
        "model.add(Dropout(0.5))\n",
        "model.add(Dense(64,activation='relu'))\n",
        "model.add(Dropout(0.5))\n",
        "model.add(Dense(3,activation='softmax'))\n",
        "\n",
        "model.compile(optimizer='adam',loss='categorical_crossentropy',metrics=['acc'])\n",
        "\n",
        "\n",
        "# Train the model\n",
        "history = model.fit(X_train, y_train, epochs=30, batch_size=32, validation_data=(X_test, y_test))\n",
        "\n",
        "# Evaluate the model on the test set\n",
        "loss, accuracy = model.evaluate(X_test, y_test)\n",
        "print(\"Test Loss:\", loss)\n",
        "print(\"Test Accuracy:\", accuracy)"
      ],
      "metadata": {
        "colab": {
          "base_uri": "https://localhost:8080/"
        },
        "id": "vLB6mmnysT5n",
        "outputId": "8a75a44e-5d0d-478d-dbe2-b0366f1d1818"
      },
      "id": "vLB6mmnysT5n",
      "execution_count": null,
      "outputs": [
        {
          "output_type": "stream",
          "name": "stdout",
          "text": [
            "Downloading data from https://storage.googleapis.com/tensorflow/keras-applications/resnet/resnet50_weights_tf_dim_ordering_tf_kernels_notop.h5\n",
            "94765736/94765736 [==============================] - 0s 0us/step\n",
            "Epoch 1/30\n",
            "21/21 [==============================] - 14s 194ms/step - loss: 0.9812 - acc: 0.5113 - val_loss: 2.6478 - val_acc: 0.4957\n",
            "Epoch 2/30\n",
            "21/21 [==============================] - 1s 45ms/step - loss: 0.8622 - acc: 0.6124 - val_loss: 3.0604 - val_acc: 0.4957\n",
            "Epoch 3/30\n",
            "21/21 [==============================] - 1s 45ms/step - loss: 0.7886 - acc: 0.6456 - val_loss: 3.0829 - val_acc: 0.4957\n",
            "Epoch 4/30\n",
            "21/21 [==============================] - 1s 45ms/step - loss: 0.7336 - acc: 0.6727 - val_loss: 3.4315 - val_acc: 0.4957\n",
            "Epoch 5/30\n",
            "21/21 [==============================] - 1s 44ms/step - loss: 0.7210 - acc: 0.6848 - val_loss: 3.5449 - val_acc: 0.4957\n",
            "Epoch 6/30\n",
            "21/21 [==============================] - 1s 47ms/step - loss: 0.6774 - acc: 0.7044 - val_loss: 3.3301 - val_acc: 0.4957\n",
            "Epoch 7/30\n",
            "21/21 [==============================] - 1s 56ms/step - loss: 0.6700 - acc: 0.7089 - val_loss: 3.0245 - val_acc: 0.4957\n",
            "Epoch 8/30\n",
            "21/21 [==============================] - 1s 49ms/step - loss: 0.5644 - acc: 0.7587 - val_loss: 2.7178 - val_acc: 0.4957\n",
            "Epoch 9/30\n",
            "21/21 [==============================] - 1s 44ms/step - loss: 0.5858 - acc: 0.7587 - val_loss: 2.1927 - val_acc: 0.4957\n",
            "Epoch 10/30\n",
            "21/21 [==============================] - 1s 45ms/step - loss: 0.5089 - acc: 0.7843 - val_loss: 2.3189 - val_acc: 0.5043\n",
            "Epoch 11/30\n",
            "21/21 [==============================] - 1s 46ms/step - loss: 0.5231 - acc: 0.7798 - val_loss: 2.1152 - val_acc: 0.5043\n",
            "Epoch 12/30\n",
            "21/21 [==============================] - 1s 45ms/step - loss: 0.4186 - acc: 0.8356 - val_loss: 1.7872 - val_acc: 0.5299\n",
            "Epoch 13/30\n",
            "21/21 [==============================] - 1s 44ms/step - loss: 0.4077 - acc: 0.8462 - val_loss: 1.5445 - val_acc: 0.5299\n",
            "Epoch 14/30\n",
            "21/21 [==============================] - 1s 45ms/step - loss: 0.4105 - acc: 0.8281 - val_loss: 1.3083 - val_acc: 0.5812\n",
            "Epoch 15/30\n",
            "21/21 [==============================] - 1s 44ms/step - loss: 0.3643 - acc: 0.8643 - val_loss: 1.1129 - val_acc: 0.6410\n",
            "Epoch 16/30\n",
            "21/21 [==============================] - 1s 45ms/step - loss: 0.3388 - acc: 0.8763 - val_loss: 0.8739 - val_acc: 0.7094\n",
            "Epoch 17/30\n",
            "21/21 [==============================] - 1s 44ms/step - loss: 0.3271 - acc: 0.8688 - val_loss: 0.7028 - val_acc: 0.7778\n",
            "Epoch 18/30\n",
            "21/21 [==============================] - 1s 44ms/step - loss: 0.2794 - acc: 0.8914 - val_loss: 0.9091 - val_acc: 0.7436\n",
            "Epoch 19/30\n",
            "21/21 [==============================] - 1s 45ms/step - loss: 0.2551 - acc: 0.9035 - val_loss: 0.8871 - val_acc: 0.7094\n",
            "Epoch 20/30\n",
            "21/21 [==============================] - 1s 48ms/step - loss: 0.2067 - acc: 0.9261 - val_loss: 0.8596 - val_acc: 0.7607\n",
            "Epoch 21/30\n",
            "21/21 [==============================] - 1s 49ms/step - loss: 0.2393 - acc: 0.9110 - val_loss: 0.8840 - val_acc: 0.7863\n",
            "Epoch 22/30\n",
            "21/21 [==============================] - 1s 48ms/step - loss: 0.2418 - acc: 0.9035 - val_loss: 0.7654 - val_acc: 0.8034\n",
            "Epoch 23/30\n",
            "21/21 [==============================] - 1s 44ms/step - loss: 0.1967 - acc: 0.9397 - val_loss: 0.7995 - val_acc: 0.7692\n",
            "Epoch 24/30\n",
            "21/21 [==============================] - 1s 44ms/step - loss: 0.2839 - acc: 0.9095 - val_loss: 0.7913 - val_acc: 0.7778\n",
            "Epoch 25/30\n",
            "21/21 [==============================] - 1s 44ms/step - loss: 0.2052 - acc: 0.9367 - val_loss: 0.8973 - val_acc: 0.7436\n",
            "Epoch 26/30\n",
            "21/21 [==============================] - 1s 44ms/step - loss: 0.2269 - acc: 0.9170 - val_loss: 0.7486 - val_acc: 0.7863\n",
            "Epoch 27/30\n",
            "21/21 [==============================] - 1s 45ms/step - loss: 0.1710 - acc: 0.9397 - val_loss: 0.9288 - val_acc: 0.7607\n",
            "Epoch 28/30\n",
            "21/21 [==============================] - 1s 45ms/step - loss: 0.1788 - acc: 0.9397 - val_loss: 0.9430 - val_acc: 0.7692\n",
            "Epoch 29/30\n",
            "21/21 [==============================] - 1s 50ms/step - loss: 0.1509 - acc: 0.9638 - val_loss: 0.9616 - val_acc: 0.8034\n",
            "Epoch 30/30\n",
            "21/21 [==============================] - 1s 46ms/step - loss: 0.1429 - acc: 0.9472 - val_loss: 1.1110 - val_acc: 0.7607\n",
            "4/4 [==============================] - 0s 53ms/step - loss: 1.1110 - acc: 0.7607\n",
            "Test Loss: 1.1109566688537598\n",
            "Test Accuracy: 0.7606837749481201\n"
          ]
        }
      ]
    },
    {
      "cell_type": "code",
      "execution_count": null,
      "id": "0f508a27",
      "metadata": {
        "execution": {
          "iopub.execute_input": "2022-06-13T06:09:42.292364Z",
          "iopub.status.busy": "2022-06-13T06:09:42.291613Z",
          "iopub.status.idle": "2022-06-13T06:13:27.772101Z",
          "shell.execute_reply": "2022-06-13T06:13:27.771322Z"
        },
        "papermill": {
          "duration": 225.530332,
          "end_time": "2022-06-13T06:13:27.773951",
          "exception": false,
          "start_time": "2022-06-13T06:09:42.243619",
          "status": "completed"
        },
        "tags": [],
        "id": "0f508a27",
        "colab": {
          "base_uri": "https://localhost:8080/"
        },
        "outputId": "b6226812-e4a0-4944-c400-628e8242ab2a"
      },
      "outputs": [
        {
          "output_type": "stream",
          "name": "stdout",
          "text": [
            "Epoch 1/30\n",
            "21/21 [==============================] - 1s 53ms/step - loss: 0.0569 - acc: 0.9834 - val_loss: 0.3304 - val_acc: 0.9658\n",
            "Epoch 2/30\n",
            "21/21 [==============================] - 1s 46ms/step - loss: 0.0263 - acc: 0.9940 - val_loss: 0.3586 - val_acc: 0.9231\n",
            "Epoch 3/30\n",
            "21/21 [==============================] - 1s 48ms/step - loss: 0.0457 - acc: 0.9879 - val_loss: 0.3320 - val_acc: 0.9658\n",
            "Epoch 4/30\n",
            "21/21 [==============================] - 1s 49ms/step - loss: 0.0309 - acc: 0.9879 - val_loss: 0.3381 - val_acc: 0.9316\n",
            "Epoch 5/30\n",
            "21/21 [==============================] - 1s 47ms/step - loss: 0.0548 - acc: 0.9864 - val_loss: 0.3047 - val_acc: 0.9573\n",
            "Epoch 6/30\n",
            "21/21 [==============================] - 1s 46ms/step - loss: 0.0312 - acc: 0.9894 - val_loss: 0.3342 - val_acc: 0.9231\n",
            "Epoch 7/30\n",
            "21/21 [==============================] - 1s 45ms/step - loss: 0.0308 - acc: 0.9894 - val_loss: 0.4456 - val_acc: 0.8974\n",
            "Epoch 8/30\n",
            "21/21 [==============================] - 1s 46ms/step - loss: 0.0372 - acc: 0.9864 - val_loss: 0.3130 - val_acc: 0.9402\n",
            "Epoch 9/30\n",
            "21/21 [==============================] - 1s 46ms/step - loss: 0.0332 - acc: 0.9910 - val_loss: 0.3124 - val_acc: 0.9231\n",
            "Epoch 10/30\n",
            "21/21 [==============================] - 1s 46ms/step - loss: 0.0578 - acc: 0.9910 - val_loss: 0.3259 - val_acc: 0.9316\n",
            "Epoch 11/30\n",
            "21/21 [==============================] - 1s 45ms/step - loss: 0.0538 - acc: 0.9910 - val_loss: 0.2915 - val_acc: 0.9487\n",
            "Epoch 12/30\n",
            "21/21 [==============================] - 1s 46ms/step - loss: 0.0978 - acc: 0.9879 - val_loss: 0.3038 - val_acc: 0.9402\n",
            "Epoch 13/30\n",
            "21/21 [==============================] - 1s 45ms/step - loss: 0.0306 - acc: 0.9894 - val_loss: 0.3205 - val_acc: 0.9487\n",
            "Epoch 14/30\n",
            "21/21 [==============================] - 1s 46ms/step - loss: 0.0260 - acc: 0.9910 - val_loss: 0.3548 - val_acc: 0.9487\n",
            "Epoch 15/30\n",
            "21/21 [==============================] - 1s 45ms/step - loss: 0.0241 - acc: 0.9879 - val_loss: 0.3764 - val_acc: 0.9231\n",
            "Epoch 16/30\n",
            "21/21 [==============================] - 1s 48ms/step - loss: 0.0458 - acc: 0.9879 - val_loss: 0.2661 - val_acc: 0.9402\n",
            "Epoch 17/30\n",
            "21/21 [==============================] - 1s 49ms/step - loss: 0.0455 - acc: 0.9894 - val_loss: 0.2340 - val_acc: 0.9573\n",
            "Epoch 18/30\n",
            "21/21 [==============================] - 1s 50ms/step - loss: 0.0193 - acc: 0.9940 - val_loss: 0.2787 - val_acc: 0.9487\n",
            "Epoch 19/30\n",
            "21/21 [==============================] - 1s 46ms/step - loss: 0.0487 - acc: 0.9955 - val_loss: 0.3189 - val_acc: 0.9487\n",
            "Epoch 20/30\n",
            "21/21 [==============================] - 1s 46ms/step - loss: 0.0433 - acc: 0.9910 - val_loss: 0.3253 - val_acc: 0.9573\n",
            "Epoch 21/30\n",
            "21/21 [==============================] - 1s 46ms/step - loss: 0.0146 - acc: 0.9940 - val_loss: 0.3433 - val_acc: 0.9487\n",
            "Epoch 22/30\n",
            "21/21 [==============================] - 1s 46ms/step - loss: 0.0086 - acc: 0.9955 - val_loss: 0.3468 - val_acc: 0.9744\n",
            "Epoch 23/30\n",
            "21/21 [==============================] - 1s 46ms/step - loss: 0.0213 - acc: 0.9894 - val_loss: 0.3857 - val_acc: 0.9487\n",
            "Epoch 24/30\n",
            "21/21 [==============================] - 1s 45ms/step - loss: 0.0354 - acc: 0.9910 - val_loss: 0.4181 - val_acc: 0.9402\n",
            "Epoch 25/30\n",
            "21/21 [==============================] - 1s 46ms/step - loss: 0.0174 - acc: 0.9940 - val_loss: 0.5170 - val_acc: 0.9573\n",
            "Epoch 26/30\n",
            "21/21 [==============================] - 1s 46ms/step - loss: 0.0147 - acc: 0.9925 - val_loss: 0.5245 - val_acc: 0.9487\n",
            "Epoch 27/30\n",
            "21/21 [==============================] - 1s 46ms/step - loss: 0.0286 - acc: 0.9940 - val_loss: 0.5945 - val_acc: 0.9402\n",
            "Epoch 28/30\n",
            "21/21 [==============================] - 1s 46ms/step - loss: 0.0323 - acc: 0.9894 - val_loss: 0.6445 - val_acc: 0.9316\n",
            "Epoch 29/30\n",
            "21/21 [==============================] - 1s 48ms/step - loss: 0.0113 - acc: 1.0000 - val_loss: 0.5853 - val_acc: 0.9402\n",
            "Epoch 30/30\n",
            "21/21 [==============================] - 1s 50ms/step - loss: 0.0259 - acc: 0.9910 - val_loss: 0.6078 - val_acc: 0.9402\n",
            "4/4 [==============================] - 0s 49ms/step - loss: 0.6078 - acc: 0.9402\n",
            "Test Loss: 0.6077699065208435\n",
            "Test Accuracy: 0.94017094373703\n"
          ]
        }
      ],
      "source": [
        "history = model.fit(Xm_train, ym_train, epochs=30, batch_size=32, validation_data=(Xm_test, ym_test))\n",
        "\n",
        "loss, accuracy = model.evaluate(Xm_test, ym_test)\n",
        "print(\"Test Loss:\", loss)\n",
        "print(\"Test Accuracy:\", accuracy)"
      ]
    }
  ],
  "metadata": {
    "kernelspec": {
      "display_name": "Python 3",
      "name": "python3"
    },
    "language_info": {
      "codemirror_mode": {
        "name": "ipython",
        "version": 3
      },
      "file_extension": ".py",
      "mimetype": "text/x-python",
      "name": "python",
      "nbconvert_exporter": "python",
      "pygments_lexer": "ipython3",
      "version": "3.7.12"
    },
    "papermill": {
      "default_parameters": {},
      "duration": 641.893205,
      "end_time": "2022-06-13T06:13:32.930233",
      "environment_variables": {},
      "exception": null,
      "input_path": "__notebook__.ipynb",
      "output_path": "__notebook__.ipynb",
      "parameters": {},
      "start_time": "2022-06-13T06:02:51.037028",
      "version": "2.3.4"
    },
    "colab": {
      "provenance": [],
      "gpuType": "T4",
      "include_colab_link": true
    },
    "accelerator": "GPU"
  },
  "nbformat": 4,
  "nbformat_minor": 5
}